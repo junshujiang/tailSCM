{
 "cells": [
  {
   "cell_type": "code",
   "execution_count": 1,
   "metadata": {},
   "outputs": [
    {
     "name": "stderr",
     "output_type": "stream",
     "text": [
      "/home/jianj0c/anaconda3/envs/py3-env/lib/python3.7/site-packages/tigramite/independence_tests/gpdc.py:16: UserWarning: No module named 'dcor'\n",
      "  warnings.warn(str(e))\n",
      "/home/jianj0c/anaconda3/envs/py3-env/lib/python3.7/site-packages/tigramite/independence_tests/gpdc_torch.py:18: UserWarning: No module named 'dcor'\n",
      "  warnings.warn(str(e))\n"
     ]
    },
    {
     "name": "stdout",
     "output_type": "stream",
     "text": [
      "exp_result/30.ComparisonBodik.log/xx.log\n",
      "0\n"
     ]
    },
    {
     "name": "stderr",
     "output_type": "stream",
     "text": [
      "R[write to console]: \n",
      "Attaching package: ‘igraph’\n",
      "\n",
      "\n",
      "R[write to console]: The following objects are masked from ‘package:stats’:\n",
      "\n",
      "    decompose, spectrum\n",
      "\n",
      "\n",
      "R[write to console]: The following object is masked from ‘package:base’:\n",
      "\n",
      "    union\n",
      "\n",
      "\n",
      "R[write to console]: \n",
      "Attaching package: ‘EnvStats’\n",
      "\n",
      "\n",
      "R[write to console]: The following objects are masked from ‘package:stats’:\n",
      "\n",
      "    predict, predict.lm\n",
      "\n",
      "\n",
      "R[write to console]: Error in quantile.default(imput, choice_of_F) : \n",
      "  missing values and NaN's not allowed if 'na.rm' is FALSE\n",
      "\n"
     ]
    },
    {
     "ename": "RRuntimeError",
     "evalue": "Error in quantile.default(imput, choice_of_F) : \n  missing values and NaN's not allowed if 'na.rm' is FALSE\n",
     "output_type": "error",
     "traceback": [
      "\u001b[0;31m---------------------------------------------------------------------------\u001b[0m",
      "\u001b[0;31mRRuntimeError\u001b[0m                             Traceback (most recent call last)",
      "\u001b[0;32m/tmp/ipykernel_37742/3656337045.py\u001b[0m in \u001b[0;36m<module>\u001b[0;34m\u001b[0m\n\u001b[1;32m     58\u001b[0m \u001b[0;34m\u001b[0m\u001b[0m\n\u001b[1;32m     59\u001b[0m             \u001b[0mresultsThisPaper\u001b[0m\u001b[0;34m,\u001b[0m\u001b[0m_\u001b[0m\u001b[0;34m=\u001b[0m\u001b[0mmethod_this_paper\u001b[0m\u001b[0;34m(\u001b[0m\u001b[0mpd\u001b[0m\u001b[0;34m.\u001b[0m\u001b[0mDataFrame\u001b[0m\u001b[0;34m(\u001b[0m\u001b[0mX_data\u001b[0m\u001b[0;34m)\u001b[0m\u001b[0;34m,\u001b[0m\u001b[0mtau_max\u001b[0m\u001b[0;34m=\u001b[0m\u001b[0;36m1\u001b[0m\u001b[0;34m,\u001b[0m\u001b[0mtau_min\u001b[0m\u001b[0;34m=\u001b[0m\u001b[0;36m1\u001b[0m\u001b[0;34m)\u001b[0m\u001b[0;34m\u001b[0m\u001b[0;34m\u001b[0m\u001b[0m\n\u001b[0;32m---> 60\u001b[0;31m             \u001b[0mresultBodik\u001b[0m\u001b[0;34m=\u001b[0m\u001b[0mComparisonBodik\u001b[0m\u001b[0;34m(\u001b[0m\u001b[0mpd\u001b[0m\u001b[0;34m.\u001b[0m\u001b[0mDataFrame\u001b[0m\u001b[0;34m(\u001b[0m\u001b[0mX_data\u001b[0m\u001b[0;34m)\u001b[0m\u001b[0;34m,\u001b[0m\u001b[0;36m1\u001b[0m\u001b[0;34m)\u001b[0m\u001b[0;34m\u001b[0m\u001b[0;34m\u001b[0m\u001b[0m\n\u001b[0m\u001b[1;32m     61\u001b[0m \u001b[0;34m\u001b[0m\u001b[0m\n\u001b[1;32m     62\u001b[0m             \u001b[0;31m# 创建一个 [N, N] 的对角线掩码\u001b[0m\u001b[0;34m\u001b[0m\u001b[0;34m\u001b[0m\u001b[0;34m\u001b[0m\u001b[0m\n",
      "\u001b[0;32m~/project/STP/code_publish/tailSCM/comparison.py\u001b[0m in \u001b[0;36mComparisonBodik\u001b[0;34m(data, lag)\u001b[0m\n\u001b[1;32m     31\u001b[0m     \u001b[0mfunction\u001b[0m\u001b[0;34m=\u001b[0m\u001b[0mrobjects\u001b[0m\u001b[0;34m.\u001b[0m\u001b[0mr\u001b[0m\u001b[0;34m[\u001b[0m\u001b[0;34m'a_func'\u001b[0m\u001b[0;34m]\u001b[0m\u001b[0;34m\u001b[0m\u001b[0;34m\u001b[0m\u001b[0m\n\u001b[1;32m     32\u001b[0m     \u001b[0;32mwith\u001b[0m \u001b[0mlocalconverter\u001b[0m\u001b[0;34m(\u001b[0m\u001b[0mrobjects\u001b[0m\u001b[0;34m.\u001b[0m\u001b[0mdefault_converter\u001b[0m \u001b[0;34m+\u001b[0m \u001b[0mpandas2ri\u001b[0m\u001b[0;34m.\u001b[0m\u001b[0mconverter\u001b[0m\u001b[0;34m)\u001b[0m\u001b[0;34m:\u001b[0m\u001b[0;34m\u001b[0m\u001b[0;34m\u001b[0m\u001b[0m\n\u001b[0;32m---> 33\u001b[0;31m         \u001b[0medge\u001b[0m  \u001b[0;34m=\u001b[0m \u001b[0mfunction\u001b[0m\u001b[0;34m(\u001b[0m\u001b[0mdata\u001b[0m\u001b[0;34m,\u001b[0m\u001b[0mlag\u001b[0m\u001b[0;34m)\u001b[0m\u001b[0;34m\u001b[0m\u001b[0;34m\u001b[0m\u001b[0m\n\u001b[0m\u001b[1;32m     34\u001b[0m         \u001b[0;32mif\u001b[0m \u001b[0misinstance\u001b[0m\u001b[0;34m(\u001b[0m\u001b[0medge\u001b[0m\u001b[0;34m,\u001b[0m \u001b[0mrobjects\u001b[0m\u001b[0;34m.\u001b[0m\u001b[0mrinterface\u001b[0m\u001b[0;34m.\u001b[0m\u001b[0mNULLType\u001b[0m\u001b[0;34m)\u001b[0m\u001b[0;34m:\u001b[0m\u001b[0;34m\u001b[0m\u001b[0;34m\u001b[0m\u001b[0m\n\u001b[1;32m     35\u001b[0m             \u001b[0;32mreturn\u001b[0m \u001b[0mnp\u001b[0m\u001b[0;34m.\u001b[0m\u001b[0mzeros\u001b[0m\u001b[0;34m(\u001b[0m\u001b[0;34m(\u001b[0m\u001b[0mdata\u001b[0m\u001b[0;34m.\u001b[0m\u001b[0mshape\u001b[0m\u001b[0;34m[\u001b[0m\u001b[0;36m1\u001b[0m\u001b[0;34m]\u001b[0m\u001b[0;34m,\u001b[0m\u001b[0mdata\u001b[0m\u001b[0;34m.\u001b[0m\u001b[0mshape\u001b[0m\u001b[0;34m[\u001b[0m\u001b[0;36m1\u001b[0m\u001b[0;34m]\u001b[0m\u001b[0;34m,\u001b[0m\u001b[0;36m2\u001b[0m\u001b[0;34m)\u001b[0m\u001b[0;34m,\u001b[0m\u001b[0mdtype\u001b[0m\u001b[0;34m=\u001b[0m\u001b[0;34m'<U3'\u001b[0m\u001b[0;34m)\u001b[0m\u001b[0;34m\u001b[0m\u001b[0;34m\u001b[0m\u001b[0m\n",
      "\u001b[0;32m~/anaconda3/envs/py3-env/lib/python3.7/site-packages/rpy2/robjects/functions.py\u001b[0m in \u001b[0;36m__call__\u001b[0;34m(self, *args, **kwargs)\u001b[0m\n\u001b[1;32m    207\u001b[0m                 \u001b[0mkwargs\u001b[0m\u001b[0;34m[\u001b[0m\u001b[0mr_k\u001b[0m\u001b[0;34m]\u001b[0m \u001b[0;34m=\u001b[0m \u001b[0mv\u001b[0m\u001b[0;34m\u001b[0m\u001b[0;34m\u001b[0m\u001b[0m\n\u001b[1;32m    208\u001b[0m         return (super(SignatureTranslatedFunction, self)\n\u001b[0;32m--> 209\u001b[0;31m                 .__call__(*args, **kwargs))\n\u001b[0m\u001b[1;32m    210\u001b[0m \u001b[0;34m\u001b[0m\u001b[0m\n\u001b[1;32m    211\u001b[0m \u001b[0;34m\u001b[0m\u001b[0m\n",
      "\u001b[0;32m~/anaconda3/envs/py3-env/lib/python3.7/site-packages/rpy2/robjects/functions.py\u001b[0m in \u001b[0;36m__call__\u001b[0;34m(self, *args, **kwargs)\u001b[0m\n\u001b[1;32m    129\u001b[0m             \u001b[0;32melse\u001b[0m\u001b[0;34m:\u001b[0m\u001b[0;34m\u001b[0m\u001b[0;34m\u001b[0m\u001b[0m\n\u001b[1;32m    130\u001b[0m                 \u001b[0mnew_kwargs\u001b[0m\u001b[0;34m[\u001b[0m\u001b[0mk\u001b[0m\u001b[0;34m]\u001b[0m \u001b[0;34m=\u001b[0m \u001b[0mcv\u001b[0m\u001b[0;34m.\u001b[0m\u001b[0mpy2rpy\u001b[0m\u001b[0;34m(\u001b[0m\u001b[0mv\u001b[0m\u001b[0;34m)\u001b[0m\u001b[0;34m\u001b[0m\u001b[0;34m\u001b[0m\u001b[0m\n\u001b[0;32m--> 131\u001b[0;31m         \u001b[0mres\u001b[0m \u001b[0;34m=\u001b[0m \u001b[0msuper\u001b[0m\u001b[0;34m(\u001b[0m\u001b[0mFunction\u001b[0m\u001b[0;34m,\u001b[0m \u001b[0mself\u001b[0m\u001b[0;34m)\u001b[0m\u001b[0;34m.\u001b[0m\u001b[0m__call__\u001b[0m\u001b[0;34m(\u001b[0m\u001b[0;34m*\u001b[0m\u001b[0mnew_args\u001b[0m\u001b[0;34m,\u001b[0m \u001b[0;34m**\u001b[0m\u001b[0mnew_kwargs\u001b[0m\u001b[0;34m)\u001b[0m\u001b[0;34m\u001b[0m\u001b[0;34m\u001b[0m\u001b[0m\n\u001b[0m\u001b[1;32m    132\u001b[0m         \u001b[0mres\u001b[0m \u001b[0;34m=\u001b[0m \u001b[0mcv\u001b[0m\u001b[0;34m.\u001b[0m\u001b[0mrpy2py\u001b[0m\u001b[0;34m(\u001b[0m\u001b[0mres\u001b[0m\u001b[0;34m)\u001b[0m\u001b[0;34m\u001b[0m\u001b[0;34m\u001b[0m\u001b[0m\n\u001b[1;32m    133\u001b[0m         \u001b[0;32mreturn\u001b[0m \u001b[0mres\u001b[0m\u001b[0;34m\u001b[0m\u001b[0;34m\u001b[0m\u001b[0m\n",
      "\u001b[0;32m~/anaconda3/envs/py3-env/lib/python3.7/site-packages/rpy2/rinterface_lib/conversion.py\u001b[0m in \u001b[0;36m_\u001b[0;34m(*args, **kwargs)\u001b[0m\n\u001b[1;32m     43\u001b[0m \u001b[0;32mdef\u001b[0m \u001b[0m_cdata_res_to_rinterface\u001b[0m\u001b[0;34m(\u001b[0m\u001b[0mfunction\u001b[0m\u001b[0;34m)\u001b[0m\u001b[0;34m:\u001b[0m\u001b[0;34m\u001b[0m\u001b[0;34m\u001b[0m\u001b[0m\n\u001b[1;32m     44\u001b[0m     \u001b[0;32mdef\u001b[0m \u001b[0m_\u001b[0m\u001b[0;34m(\u001b[0m\u001b[0;34m*\u001b[0m\u001b[0margs\u001b[0m\u001b[0;34m,\u001b[0m \u001b[0;34m**\u001b[0m\u001b[0mkwargs\u001b[0m\u001b[0;34m)\u001b[0m\u001b[0;34m:\u001b[0m\u001b[0;34m\u001b[0m\u001b[0;34m\u001b[0m\u001b[0m\n\u001b[0;32m---> 45\u001b[0;31m         \u001b[0mcdata\u001b[0m \u001b[0;34m=\u001b[0m \u001b[0mfunction\u001b[0m\u001b[0;34m(\u001b[0m\u001b[0;34m*\u001b[0m\u001b[0margs\u001b[0m\u001b[0;34m,\u001b[0m \u001b[0;34m**\u001b[0m\u001b[0mkwargs\u001b[0m\u001b[0;34m)\u001b[0m\u001b[0;34m\u001b[0m\u001b[0;34m\u001b[0m\u001b[0m\n\u001b[0m\u001b[1;32m     46\u001b[0m         \u001b[0;31m# TODO: test cdata is of the expected CType\u001b[0m\u001b[0;34m\u001b[0m\u001b[0;34m\u001b[0m\u001b[0;34m\u001b[0m\u001b[0m\n\u001b[1;32m     47\u001b[0m         \u001b[0;32mreturn\u001b[0m \u001b[0m_cdata_to_rinterface\u001b[0m\u001b[0;34m(\u001b[0m\u001b[0mcdata\u001b[0m\u001b[0;34m)\u001b[0m\u001b[0;34m\u001b[0m\u001b[0;34m\u001b[0m\u001b[0m\n",
      "\u001b[0;32m~/anaconda3/envs/py3-env/lib/python3.7/site-packages/rpy2/rinterface.py\u001b[0m in \u001b[0;36m__call__\u001b[0;34m(self, *args, **kwargs)\u001b[0m\n\u001b[1;32m    867\u001b[0m             )\n\u001b[1;32m    868\u001b[0m             \u001b[0;32mif\u001b[0m \u001b[0merror_occured\u001b[0m\u001b[0;34m[\u001b[0m\u001b[0;36m0\u001b[0m\u001b[0;34m]\u001b[0m\u001b[0;34m:\u001b[0m\u001b[0;34m\u001b[0m\u001b[0;34m\u001b[0m\u001b[0m\n\u001b[0;32m--> 869\u001b[0;31m                 \u001b[0;32mraise\u001b[0m \u001b[0membedded\u001b[0m\u001b[0;34m.\u001b[0m\u001b[0mRRuntimeError\u001b[0m\u001b[0;34m(\u001b[0m\u001b[0m_rinterface\u001b[0m\u001b[0;34m.\u001b[0m\u001b[0m_geterrmessage\u001b[0m\u001b[0;34m(\u001b[0m\u001b[0;34m)\u001b[0m\u001b[0;34m)\u001b[0m\u001b[0;34m\u001b[0m\u001b[0;34m\u001b[0m\u001b[0m\n\u001b[0m\u001b[1;32m    870\u001b[0m         \u001b[0;32mreturn\u001b[0m \u001b[0mres\u001b[0m\u001b[0;34m\u001b[0m\u001b[0;34m\u001b[0m\u001b[0m\n\u001b[1;32m    871\u001b[0m \u001b[0;34m\u001b[0m\u001b[0m\n",
      "\u001b[0;31mRRuntimeError\u001b[0m: Error in quantile.default(imput, choice_of_F) : \n  missing values and NaN's not allowed if 'na.rm' is FALSE\n"
     ]
    }
   ],
   "source": [
    "import os\n",
    "import pickle\n",
    "from helper_simulation import *\n",
    "from helper_util import *\n",
    "import rpy2.robjects as robjects\n",
    "from rpy2.robjects import pandas2ri,numpy2ri\n",
    "from rpy2.robjects.conversion import localconverter\n",
    "import numpy as np\n",
    "import pandas as pd\n",
    "from comparison import ComparisonGong, ComparisonBodik\n",
    "import numpy as np\n",
    "from helper_simulation import *\n",
    "\n",
    "\n",
    "\n",
    "if __name__==\"__main__\":\n",
    "\n",
    "    ## PARAMS for test\n",
    "    comparison_number=50\n",
    "    comparison_nodes=np.array([5,9,15,35,50])\n",
    "    sparcitys=np.array([0.4,0.2,0.1,0.04,0.03])\n",
    "\n",
    "\n",
    "    numeberOfData=5000\n",
    "\n",
    "\n",
    "\n",
    "    ## PARAMS for this paper\n",
    "    pc_alpha=0.005\n",
    "    quantile=1\n",
    "    ## PARAMS for Bodik\n",
    "\n",
    "\n",
    "    max_id=get_max(\"exp_result\")\n",
    "    exp_str=\"\"\n",
    "    log_path=f\"exp_result/{str(max_id)}.ComparisonBodik.log\"\n",
    "\n",
    "    logger=get_logger(log_path)\n",
    "    logger.info(f\"Start test for {comparison_nodes} nodes, Sparcity {sparcitys}\")\n",
    "\n",
    "    results={}\n",
    "    for config_i, nodes_number in enumerate(comparison_nodes):\n",
    "        print(config_i)\n",
    "        sparcity=sparcitys[config_i]\n",
    "        logger.info(f\"Start test for {nodes_number} nodes, Sparcity {sparcity}\")\n",
    "        results[config_i]={\"THIS\":[],\"BODIK\":[]}\n",
    "        result_this=[]\n",
    "        result_bodik=[]\n",
    "        \n",
    "        test_number=0\n",
    "        while (test_number<comparison_number):\n",
    "            logger.info(f\"Test {test_number}\")\n",
    "\n",
    "            adjacency_matrix,ground_true_graph = generate_dag(nodes_number,edge_probability=sparcity,lagged_causal=True)\n",
    "            N_data=simulation(numeberOfData+1,nodes_number).T \n",
    "            X_data=oplus(otimes(adjacency_matrix,N_data[:,:-1]),N_data[:,1:]).T\n",
    "\n",
    "\n",
    "            resultsThisPaper,_=method_this_paper(pd.DataFrame(X_data),tau_max=1,tau_min=1)\n",
    "            resultBodik=ComparisonBodik(pd.DataFrame(X_data),1)\n",
    "\n",
    "            # 创建一个 [N, N] 的对角线掩码\n",
    "            mask = np.eye(ground_true_graph.shape[0], dtype=bool)\n",
    "\n",
    "            # 将掩码扩展为 [N, N, k] 的形状\n",
    "            # 利用广播机制，将掩码沿着第 3 维度（k 维度）扩展\n",
    "            mask_3d = np.repeat(mask[:, :, np.newaxis], 2, axis=2)\n",
    "\n",
    "            ground_true_graph_with_selfmask=ground_true_graph.copy()\n",
    "            ground_true_graph_with_selfmask[mask_3d]=\"\"\n",
    "            resultsThisPaper_with_selfmask=resultsThisPaper.copy()\n",
    "            resultsThisPaper_with_selfmask[mask_3d]=\"\"\n",
    "            resultBodik_with_selfmask=resultBodik.copy()\n",
    "            resultBodik_with_selfmask[mask_3d]=\"\"\n",
    "            test_number=test_number+1\n",
    "            result_this.append(compare_graphs(ground_true_graph_with_selfmask,resultsThisPaper_with_selfmask,lagged=True))\n",
    "            result_bodik.append(compare_graphs(ground_true_graph_with_selfmask,resultBodik_with_selfmask,lagged=True))\n",
    "        results[config_i][\"THIS\"]=result_this\n",
    "        results[config_i][\"BODIK\"]=result_bodik\n",
    "        \n",
    "\n",
    "    results_df=[]\n",
    "    results_ori=[]\n",
    "    for config_i in results:\n",
    "        df_tmp_ori=pd.DataFrame({\"THIS\":[x[0] for x in results[config_i][\"THIS\"]],\n",
    "                \"BODIK\":[x[0] for x in results[config_i][\"BODIK\"]]})\n",
    "        results_ori.append(df_tmp_ori)\n",
    "        mean=df_tmp_ori.mean()\n",
    "        std=df_tmp_ori.std()\n",
    "        \n",
    "        df_tmp=pd.concat([mean,std],axis=0)\n",
    "        df_tmp.index=[\"THIS_mean\",\"BODIK_mean\",\"THIS_std\",\"BODIK_std\"]\n",
    "        df_tmp=pd.DataFrame(df_tmp).T    \n",
    "        results_df.append(df_tmp)\n",
    "    with open(os.path.join(log_path,f\"result_ori.pkl\"),\"wb\") as f:\n",
    "        pickle.dump(results_ori,f)\n",
    "    df_result=pd.concat(results_df,axis=0)\n",
    "    df_result.index=comparison_nodes\n",
    "    df_result.to_csv(os.path.join(log_path,\"BODIKComparison.csv\"))\n",
    "    logger.info(f\"Results saved to {os.path.join(log_path,'BODIKComparison.csv')}\")\n",
    "\n"
   ]
  },
  {
   "cell_type": "code",
   "execution_count": null,
   "metadata": {},
   "outputs": [
    {
     "name": "stdout",
     "output_type": "stream",
     "text": [
      "0\n"
     ]
    }
   ],
   "source": [
    "print(config_i)\n",
    "sparcity=sparcitys[config_i]\n",
    "logger.info(f\"Start test for {nodes_number} nodes, Sparcity {sparcity}\")\n",
    "results[config_i]={\"THIS\":[],\"BODIK\":[]}\n",
    "result_this=[]\n",
    "result_bodik=[]\n",
    "\n",
    "test_number=0\n",
    "while (test_number<comparison_number):\n",
    "    logger.info(f\"Test {test_number}\")\n",
    "\n",
    "    adjacency_matrix,ground_true_graph = generate_dag(nodes_number,edge_probability=sparcity,lagged_causal=True)\n",
    "    N_data=simulation(numeberOfData+1,nodes_number).T \n",
    "    X_data=oplus(otimes(adjacency_matrix,N_data[:,:-1],False),N_data[:,1:],False).T\n",
    "\n",
    "\n",
    "    resultsThisPaper,_=method_this_paper(pd.DataFrame(X_data),tau_max=1,tau_min=1)\n",
    "    resultBodik=ComparisonBodik(pd.DataFrame(X_data),1)\n",
    "\n",
    "    # 创建一个 [N, N] 的对角线掩码\n",
    "    mask = np.eye(ground_true_graph.shape[0], dtype=bool)\n",
    "\n",
    "    # 将掩码扩展为 [N, N, k] 的形状\n",
    "    # 利用广播机制，将掩码沿着第 3 维度（k 维度）扩展\n",
    "    mask_3d = np.repeat(mask[:, :, np.newaxis], 2, axis=2)\n",
    "\n",
    "    ground_true_graph_with_selfmask=ground_true_graph.copy()\n",
    "    ground_true_graph_with_selfmask[mask_3d]=\"\"\n",
    "    resultsThisPaper_with_selfmask=resultsThisPaper.copy()\n",
    "    resultsThisPaper_with_selfmask[mask_3d]=\"\"\n",
    "    resultBodik_with_selfmask=resultBodik.copy()\n",
    "    resultBodik_with_selfmask[mask_3d]=\"\"\n",
    "    test_number=test_number+1\n",
    "    result_this.append(compare_graphs(ground_true_graph_with_selfmask,resultsThisPaper_with_selfmask,lagged=True))\n",
    "    result_bodik.append(compare_graphs(ground_true_graph_with_selfmask,resultBodik_with_selfmask,lagged=True))\n",
    "results[config_i][\"THIS\"]=result_this\n",
    "results[config_i][\"BODIK\"]=result_bodik"
   ]
  },
  {
   "cell_type": "code",
   "execution_count": 3,
   "metadata": {},
   "outputs": [
    {
     "data": {
      "text/plain": [
       "array([[0.        , 0.        , 0.        , ..., 0.        , 0.        ,\n",
       "        0.        ],\n",
       "       [0.        , 0.        , 0.        , ..., 0.        , 0.        ,\n",
       "        0.        ],\n",
       "       [9.12670295, 3.03312344, 3.72771718, ..., 2.66554956, 1.44393377,\n",
       "        3.71070363],\n",
       "       [3.31013663, 2.19753222, 2.11775936, ..., 0.96041019, 0.88761177,\n",
       "        1.63806872],\n",
       "       [1.53937528, 5.85744149, 1.99087203, ..., 3.07376557, 2.26935758,\n",
       "        1.40203319]])"
      ]
     },
     "execution_count": 3,
     "metadata": {},
     "output_type": "execute_result"
    }
   ],
   "source": [
    "otimes(adjacency_matrix,N_data[:,:-1])"
   ]
  },
  {
   "cell_type": "code",
   "execution_count": 4,
   "metadata": {},
   "outputs": [
    {
     "data": {
      "text/plain": [
       "array([[       -inf,        -inf,        -inf,  1.7314824 ,  2.41407452],\n",
       "       [       -inf,        -inf,        -inf, -0.61533471,  7.34043405],\n",
       "       [       -inf,        -inf,        -inf,  0.56706329,  1.72318791],\n",
       "       ...,\n",
       "       [       -inf,        -inf,        -inf,  0.69408697,  3.5199236 ],\n",
       "       [       -inf,        -inf,        -inf,  1.95940954,  5.36616136],\n",
       "       [       -inf,        -inf,        -inf, -0.82610997,  2.75898364]])"
      ]
     },
     "execution_count": 4,
     "metadata": {},
     "output_type": "execute_result"
    }
   ],
   "source": [
    "X_data"
   ]
  },
  {
   "cell_type": "code",
   "execution_count": null,
   "metadata": {},
   "outputs": [],
   "source": []
  }
 ],
 "metadata": {
  "kernelspec": {
   "display_name": "py3-env",
   "language": "python",
   "name": "python3"
  },
  "language_info": {
   "codemirror_mode": {
    "name": "ipython",
    "version": 3
   },
   "file_extension": ".py",
   "mimetype": "text/x-python",
   "name": "python",
   "nbconvert_exporter": "python",
   "pygments_lexer": "ipython3",
   "version": "3.7.10"
  }
 },
 "nbformat": 4,
 "nbformat_minor": 2
}
