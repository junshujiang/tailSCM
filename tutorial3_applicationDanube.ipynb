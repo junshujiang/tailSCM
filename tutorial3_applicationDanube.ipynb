{
 "cells": [
  {
   "cell_type": "code",
   "execution_count": 8,
   "metadata": {},
   "outputs": [
    {
     "name": "stdout",
     "output_type": "stream",
     "text": [
      "exp_result/318.Danbube_river/xx.log\n"
     ]
    }
   ],
   "source": [
    "import numpy as np\n",
    "%matplotlib inline     \n",
    "from tigramite import data_processing as pp\n",
    "from tigramite import plotting as tp\n",
    "from tigramite.pcmci import PCMCI\n",
    "from helper_simulation import *\n",
    "from helper_util import *\n",
    "import pandas as pd\n",
    "import os\n",
    "import pyreadr\n",
    "\n",
    "pc_alpha=0.005\n",
    "quantile=1\n",
    "max_id=get_max(\"exp_result\")\n",
    "exp_str=\"\"\n",
    "log_path=f\"exp_result/{str(max_id)}.Danbube_river\"\n",
    "\n",
    "logger=get_logger(log_path)\n",
    "path=\"Data\""
   ]
  },
  {
   "cell_type": "markdown",
   "metadata": {},
   "source": [
    "## load data"
   ]
  },
  {
   "cell_type": "code",
   "execution_count": 9,
   "metadata": {},
   "outputs": [],
   "source": [
    "datas=dict()\n",
    "for file in os.listdir(path):\n",
    "    if file.endswith(\".RData\"):\n",
    "        result = pyreadr.read_r(os.path.join(path, file))\n",
    "        datas.update(result)\n",
    "river_data=datas[\"ComTSs\"].set_index('Date')"
   ]
  },
  {
   "cell_type": "code",
   "execution_count": 10,
   "metadata": {},
   "outputs": [],
   "source": [
    "var_names=[f\"$v_{{{i}}}$\" for i in range(1,32)]\n"
   ]
  },
  {
   "cell_type": "code",
   "execution_count": null,
   "metadata": {},
   "outputs": [],
   "source": [
    "import seaborn as sns\n",
    "g=sns.pairplot(tranform_frechet_df(river_data[[f\"X{i}\" for i in range(3,7)]]),corner=False)"
   ]
  },
  {
   "cell_type": "code",
   "execution_count": 5,
   "metadata": {},
   "outputs": [],
   "source": [
    "def draw_graph(edge_shape,save_path=None,**kwargs):\n",
    "    edge_value=np.ones_like(edge_shape,dtype=float)\n",
    "    tp.plot_graph(\n",
    "        val_matrix=edge_value,\n",
    "        graph=edge_shape,\n",
    "        cmap_edges =cm1,\n",
    "        cmap_nodes =cm2,\n",
    "        link_colorbar_label='TailCorr',\n",
    "        save_name=save_path,##\n",
    "        show_colorbar=False,\n",
    "        **kwargs\n",
    "        )\n",
    "    plt.tight_layout(pad=0)\n",
    "    if save_path is not None:\n",
    "        \n",
    "        plt.savefig(save_path,dpi=200,  pad_inches=-30)\n",
    "    else:\n",
    "        plt.show()"
   ]
  },
  {
   "cell_type": "code",
   "execution_count": 55,
   "metadata": {},
   "outputs": [],
   "source": [
    "\n",
    "# 设置缩放因子（根据你的最大坐标灵活选择，比如 100、200）\n",
    "\n",
    "\n",
    "def draw_tikz(links,name,mode=\"undirected\"):\n",
    "    x_min=np.min(position_dict[\"x\"])\n",
    "    y_min=np.min(position_dict[\"y\"])\n",
    "    x_scale=np.max(position_dict[\"x\"])-x_min    \n",
    "    y_scale=np.max(position_dict[\"y\"])-y_min\n",
    "\n",
    "\n",
    "\n",
    "    file_path=os.path.join(log_path,f\"{name}.tex\")\n",
    "    with open(file_path,\"w\") as f:\n",
    "        # 生成 TikZ 节点代码\n",
    "        f.write(\"% Nodes\\n\")\n",
    "        for node_id, (x, y) in position_x.items():\n",
    "            x_scaled = (x-x_min) / x_scale*20\n",
    "            y_scaled = (1-(y-y_min) / y_scale)*20\n",
    "            f.write(f\"\\\\node (v{node_id}) at ({x_scaled:.2f}, {y_scaled:.2f}) {{$v_{{{node_id}}}$}};\\n\")\n",
    "\n",
    "        # 生成 TikZ 边代码\n",
    "        f.write(\"\\n% Edges\\n\")\n",
    "        if mode!=\"ours\":\n",
    "        for a, b in links:\n",
    "            if mode==\"undirected\":\n",
    "                f.write(f\"\\\\draw[line width=1.0pt,-] (v{a}) -- (v{b});\\n\")\n",
    "            elif mode==\"directed\":\n",
    "                f.write(f\"\\\\draw[line width=1.0pt,arrows={{-Stealth[scale=0.4]}}] (v{a}) -- (v{b});\\n\")\n",
    "        else:\n",
    "            for a, b,direction,weight in links:\n",
    "                if direction==\"o-o\":\n",
    "                    f.write(f\"\\\\draw[line width={weight:.1f}pt,-] (v{a}) -- (v{b});\\n\")\n",
    "                else:\n",
    "                    f.write(f\"\\\\draw[line width={weight:.1f}pt,arrows={{-Stealth[scale=0.4]}}] (v{a}) -- (v{b});\\n\")\n",
    "    "
   ]
  },
  {
   "cell_type": "code",
   "execution_count": 56,
   "metadata": {},
   "outputs": [],
   "source": [
    "draw_tikz(links,\"ground_truth\",mode=\"directed\")\n",
    "draw_tikz(links_cooley,\"lee\",mode=\"undirected\")\n",
    "draw_tikz(links_gong,\"gong\",mode=\"undirected\")\n",
    "draw_tikz(links_Enge,\"enge\",mode=\"undirected\")\n",
    "draw_tikz(links_Enge,\"enge\",mode=\"ours\")"
   ]
  },
  {
   "cell_type": "code",
   "execution_count": null,
   "metadata": {},
   "outputs": [],
   "source": []
  },
  {
   "cell_type": "code",
   "execution_count": null,
   "metadata": {},
   "outputs": [],
   "source": [
    "\n",
    "\n",
    "resultsThisPaper,results_tail=method_this_paper(river_data,pc_alpha=pc_alpha,quantile=quantile,tau_min=0,tau_max=0)\n",
    "print(\"this is our results\")\n",
    "\n",
    "resultsThisPaper[resultsThisPaper==\"o-o\"]=\"---\"\n",
    "save_path=os.path.join(log_path,f\"resultsThisPaperT0.png\")\n",
    "draw_graph(resultsThisPaper,node_pos=new_position_dict,figsize=(10,10),node_size=50,arrow_linewidth=5,arrowhead_size=45,curved_radius=1,node_label_size=20,var_names=var_names,save_path=save_path)"
   ]
  },
  {
   "cell_type": "code",
   "execution_count": null,
   "metadata": {},
   "outputs": [],
   "source": [
    "\n",
    "\n",
    "resultsThisPaper,results_tail=method_this_paper(river_data,pc_alpha=pc_alpha,quantile=quantile,tau_min=0,tau_max=1)\n",
    "print(\"this is our results\")\n"
   ]
  },
  {
   "cell_type": "code",
   "execution_count": null,
   "metadata": {},
   "outputs": [],
   "source": [
    "resultsThisPaper[resultsThisPaper==\"o-o\"]=\"---\"\n",
    "save_path=os.path.join(log_path,f\"resultsThisPaperT1.png\")\n",
    "draw_graph(resultsThisPaper,node_pos=new_position_dict,figsize=(10,10),node_size=50,arrow_linewidth=5,arrowhead_size=45,curved_radius=1,node_label_size=20,var_names=var_names,save_path=save_path)"
   ]
  },
  {
   "cell_type": "markdown",
   "metadata": {},
   "source": [
    "Results in other papers [1,2,3]\n",
    "\n",
    "\n",
    "\n",
    "\n",
    "\n",
    "[1]: Gong, Y., Zhong, P., Opitz, T., & Huser, R. (2024). Partial tail-correlation coefficient applied to extremal-network learning. *Technometrics*, 1–16. Taylor & Francis.\n",
    "\n",
    "[2]: Lee, J., & Cooley, D. (2022). Partial Tail Correlation for Extremes. *arXiv preprint arXiv:2210.02048*.\n",
    "\n",
    "[3]: Engelke, S., & Hitz, A. S. (2020). Graphical models for extremes. *Journal of the Royal Statistical Society Series B: Statistical Methodology, 82*(4), 871–932. Oxford University Press.\n"
   ]
  },
  {
   "cell_type": "code",
   "execution_count": null,
   "metadata": {},
   "outputs": [],
   "source": [
    "links_gong=link_dict[\"GONG\"]\n",
    "\n",
    "edge_shape_gong=np.zeros_like(results_tail[\"graph\"])\n",
    "for start,end in links_gong:\n",
    "    edge_shape_gong[start-1,end-1,0]=\"---\"\n",
    "    edge_shape_gong[end-1,start-1,0]=\"---\"\n",
    "\n",
    "links_cooley=link_dict[\"COOLEY\"]\n",
    "\n",
    "\n",
    "\n",
    "edge_shape_cooley=np.zeros_like(results_tail[\"graph\"])\n",
    "for start,end in links_cooley:\n",
    "    edge_shape_cooley[start-1,end-1,0]=\"---\"\n",
    "    edge_shape_cooley[end-1,start-1,0]=\"---\"\n",
    "\n",
    "links_Enge=link_dict[\"ENGELKE\"]\n",
    "\n",
    "\n",
    "\n",
    "edge_shape_Enge=np.zeros_like(results_tail[\"graph\"])\n",
    "for start,end in links_Enge:\n",
    "    edge_shape_Enge[start-1,end-1,0]=\"---\"\n",
    "    edge_shape_Enge[end-1,start-1,0]=\"---\"\n",
    "\n",
    "\n",
    "links_ground_truth=link_dict[\"GROUNDTRUTH\"]\n",
    "\n",
    "\n",
    "\n",
    "edge_shape_ground_truth=np.zeros_like(results_tail[\"graph\"])\n",
    "for start,end in links_ground_truth:\n",
    "    edge_shape_ground_truth[start-1,end-1,0]=\"-->\"\n",
    "    edge_shape_ground_truth[end-1,start-1,0]=\"<--\"\n",
    "\n",
    "\n",
    "\n",
    "print(\"By Gong et al. [1]\")\n",
    "save_path=os.path.join(log_path,f\"resultsgong.png\")\n",
    "draw_graph(edge_shape_gong,node_pos=new_position_dict,figsize=(10,10),node_size=50,arrow_linewidth=5,arrowhead_size=45,curved_radius=1,node_label_size=20,var_names=var_names,save_path=save_path)\n",
    "\n",
    "print(\"By Cooley and Lee [2]\")\n",
    "save_path=os.path.join(log_path,f\"resultscooley.png\")\n",
    "draw_graph(edge_shape_cooley,node_pos=new_position_dict,figsize=(10,10),node_size=50,arrow_linewidth=5,arrowhead_size=45,curved_radius=1,node_label_size=20,var_names=var_names,save_path=save_path )\n",
    "\n",
    "print(\"By Engelke and Hitz [3]\")\n",
    "save_path=os.path.join(log_path,f\"resultsenge.png\")\n",
    "draw_graph(edge_shape_Enge,node_pos=new_position_dict,figsize=(10,10),node_size=50,arrow_linewidth=5,arrowhead_size=45,curved_radius=1,node_label_size=20,var_names=var_names,save_path=save_path)\n",
    "\n",
    "print(\"Ground truth\")\n",
    "save_path=os.path.join(log_path,f\"ground_truth.png\")\n",
    "draw_graph(edge_shape_ground_truth,node_pos=new_position_dict,figsize=(10,10),node_size=50,arrow_linewidth=5,arrowhead_size=45,curved_radius=1,node_label_size=20,var_names=var_names,save_path=save_path)\n"
   ]
  },
  {
   "cell_type": "markdown",
   "metadata": {},
   "source": []
  }
 ],
 "metadata": {
  "kernelspec": {
   "display_name": "py3-env",
   "language": "python",
   "name": "python3"
  },
  "language_info": {
   "codemirror_mode": {
    "name": "ipython",
    "version": 3
   },
   "file_extension": ".py",
   "mimetype": "text/x-python",
   "name": "python",
   "nbconvert_exporter": "python",
   "pygments_lexer": "ipython3",
   "version": "3.7.10"
  }
 },
 "nbformat": 4,
 "nbformat_minor": 2
}
