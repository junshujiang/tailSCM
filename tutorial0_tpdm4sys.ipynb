{
 "cells": [
  {
   "cell_type": "code",
   "execution_count": 1,
   "metadata": {},
   "outputs": [
    {
     "name": "stderr",
     "output_type": "stream",
     "text": [
      "/home/jianj0c/anaconda3/envs/py3-env/lib/python3.7/site-packages/tigramite/independence_tests/gpdc.py:16: UserWarning: No module named 'dcor'\n",
      "  warnings.warn(str(e))\n",
      "/home/jianj0c/anaconda3/envs/py3-env/lib/python3.7/site-packages/tigramite/independence_tests/gpdc_torch.py:18: UserWarning: No module named 'dcor'\n",
      "  warnings.warn(str(e))\n"
     ]
    },
    {
     "name": "stdout",
     "output_type": "stream",
     "text": [
      "exp_result/43.TPDMforsys/xx.log\n"
     ]
    }
   ],
   "source": [
    "import os\n",
    "\n",
    "# 限制 OpenMP 使用的核心数\n",
    "os.environ[\"OMP_NUM_THREADS\"] = \"2\"\n",
    "os.environ[\"OPENBLAS_NUM_THREADS\"] = \"2\"\n",
    "os.environ[\"MKL_NUM_THREADS\"] = \"2\"\n",
    "os.environ[\"VECLIB_MAXIMUM_THREADS\"] = \"2\"\n",
    "os.environ[\"NUMEXPR_NUM_THREADS\"] = \"2\"\n",
    "\n",
    "\n",
    "from helper_simulation import *\n",
    "import tigramite\n",
    "from tigramite import data_processing as pp\n",
    "from tigramite.toymodels import structural_causal_processes as toys\n",
    "from tigramite import plotting as tp\n",
    "\n",
    "from tigramite.independence_tests import ParCorr\n",
    "import os\n",
    "from helper_simulation import *\n",
    "from helper_util import *\n",
    "import numpy as np \n",
    "from scipy.stats import t as t_distribution\n",
    "import matplotlib.pyplot as plt\n",
    "import rpy2.robjects as robjects\n",
    "from rpy2.robjects import pandas2ri,numpy2ri\n",
    "from rpy2.robjects.conversion import localconverter\n",
    "from tigramite import plotting as tp\n",
    "import networkx as nx\n",
    "import numpy as np\n",
    "import matplotlib.pyplot as plt\n",
    "#from helper import *\n",
    "import numpy as np\n",
    "import pandas as pd\n",
    "%matplotlib inline\n",
    "\n",
    "\n",
    "\n",
    "max_id=get_max(\"exp_result\")\n",
    "exp_str=\"\"\n",
    "log_path=f\"exp_result/{str(max_id)}.TPDMforsys\"\n",
    "\n",
    "logger=get_logger(log_path)\n"
   ]
  },
  {
   "cell_type": "markdown",
   "metadata": {},
   "source": [
    "The following code shows the $(1-B)^{-1}$ is positive semidefinite."
   ]
  },
  {
   "cell_type": "code",
   "execution_count": 2,
   "metadata": {},
   "outputs": [],
   "source": [
    "num_nodes = 5  \n",
    "\n",
    "n=5000\n",
    "for i in range(1000):\n",
    "    adjacency_matrix,edges_shape = generate_dag(num_nodes,edge_probability=0.3)\n",
    "    quantile=1\n",
    "    # 获取邻接矩阵\n",
    "\n",
    "    #draw_dag(adjacency_matrix,edges_dict,pathh,nodes)\n",
    "\n",
    "    IC_1=np.linalg.inv(np.eye(adjacency_matrix.shape[0])-adjacency_matrix)\n",
    "    assert (IC_1>=0).all(), \"IC_1 is not positive semidefinite\""
   ]
  },
  {
   "cell_type": "markdown",
   "metadata": {},
   "source": []
  },
  {
   "cell_type": "code",
   "execution_count": 11,
   "metadata": {},
   "outputs": [],
   "source": [
    "number_of_records=10000000\n",
    "N_data=simulation(number_of_records,num_nodes).T\n",
    "X_data=otimes(IC_1,N_data,False)\n",
    "#X_data_=oplus(N_data,otimes(adjacency_matrix,X_data))\n",
    "data_df_=pd.DataFrame(X_data.T)  ## method1: recursive"
   ]
  },
  {
   "cell_type": "code",
   "execution_count": 5,
   "metadata": {},
   "outputs": [
    {
     "data": {
      "text/plain": [
       "1"
      ]
     },
     "execution_count": 5,
     "metadata": {},
     "output_type": "execute_result"
    }
   ],
   "source": [
    "quantile"
   ]
  },
  {
   "cell_type": "code",
   "execution_count": 15,
   "metadata": {},
   "outputs": [
    {
     "data": {
      "text/plain": [
       "0.03644715352782391"
      ]
     },
     "execution_count": 15,
     "metadata": {},
     "output_type": "execute_result"
    }
   ],
   "source": [
    "\n",
    "results1=IC_1.T@IC_1\n",
    "results2_=estimate_tpdm1(data_df_.values,quantile=0.001,unit_frechet=False)\n",
    "(results2_.round(2)-results1).mean()\n",
    "#results2/results2.sum()"
   ]
  }
 ],
 "metadata": {
  "kernelspec": {
   "display_name": "py3-env",
   "language": "python",
   "name": "python3"
  },
  "language_info": {
   "codemirror_mode": {
    "name": "ipython",
    "version": 3
   },
   "file_extension": ".py",
   "mimetype": "text/x-python",
   "name": "python",
   "nbconvert_exporter": "python",
   "pygments_lexer": "ipython3",
   "version": "3.7.10"
  }
 },
 "nbformat": 4,
 "nbformat_minor": 2
}
