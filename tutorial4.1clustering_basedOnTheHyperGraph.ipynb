{
 "cells": [
  {
   "cell_type": "code",
   "execution_count": null,
   "metadata": {},
   "outputs": [],
   "source": [
    "import numpy as np\n",
    "import networkx as nx\n",
    "import community as community_louvain  # 正确的导入方式\n",
    "import matplotlib.pyplot as plt\n",
    "import pandas as pd\n",
    "from datetime import datetime\n",
    "from helper_util import *\n",
    "import seaborn as sns\n",
    "from helper_simulation import expand_data_df\n",
    "current_date = datetime.now().strftime(\"%Y%m%d\")    \n",
    "pd.set_option('display.max_columns', None)\n",
    "pd.set_option('display.max_rows', None)\n",
    "%matplotlib inline\n",
    "\n",
    "\n",
    "max_id=get_max(\"exp_result\")\n",
    "log_path=f\"exp_result/{str(max_id)}.{current_date}.Clustering\"\n",
    "\n",
    "logger=get_logger(log_path)"
   ]
  },
  {
   "cell_type": "code",
   "execution_count": 2,
   "metadata": {},
   "outputs": [],
   "source": [
    "from helper_util import *\n",
    "\n",
    "all_assets=[]\n",
    "for category in categories:\n",
    "    all_assets.extend(categories[category])\n",
    "all_assets=sorted(all_assets)\n",
    "var_names=np.array([f\"${i}^{{u}}$\" for i in all_assets]+[f\"${i}^{{l}}$\" for i in all_assets]+[f\"${i}.vol$\" for i in all_assets])"
   ]
  },
  {
   "cell_type": "code",
   "execution_count": 135,
   "metadata": {},
   "outputs": [],
   "source": [
    "\n",
    "import pickle\n",
    "\n",
    "\n",
    "\n",
    "path=\"/home/jianj0c/project/STP/code_publish/tailSCM/exp_result/200.20250306.applicationChinaDerivatives_I600/whole_market_results_detail0.01_q1.pkl\"\n",
    "\n",
    "\n",
    "pc_alpha=float(path.split(\"/\")[-1].split(\"_\")[-2][6:])\n",
    "quantile=float(path.split(\"/\")[-1].split(\"_\")[-1][1:-4])\n",
    "details=pickle.load(open(path,\"rb\"))\n",
    "strength=details[\"val_matrix\"]\n",
    "p_value=details[\"p_matrix\"]\n",
    "\n",
    "\n",
    "adjacency_matrix=np.zeros(shape=(len(var_names),len(var_names)))\n",
    "\n",
    "adjacency_matrix[p_value[:,:,0]<pc_alpha]=strength[:,:,0][p_value[:,:,0]<pc_alpha]"
   ]
  },
  {
   "cell_type": "code",
   "execution_count": 136,
   "metadata": {},
   "outputs": [],
   "source": [
    "new_adjacency_matrix=np.zeros(shape=(len(all_assets),len(all_assets)))\n",
    "for i in range(len(all_assets)):\n",
    "    for j in range(len(all_assets)):\n",
    "        if i!=j:\n",
    "            new_adjacency_matrix[i,j]=adjacency_matrix[[i,i+len(all_assets),i+2*len(all_assets)],[j,j+len(all_assets),j+2*len(all_assets)]].mean()\n",
    "            \n"
   ]
  },
  {
   "cell_type": "code",
   "execution_count": null,
   "metadata": {},
   "outputs": [],
   "source": [
    "import numpy as np\n",
    "import networkx as nx\n",
    "import matplotlib.pyplot as plt\n",
    "import seaborn as sns\n",
    "from sklearn.cluster import SpectralClustering\n",
    "from collections import defaultdict\n",
    "from scipy.spatial import ConvexHull\n",
    "from adjustText import adjust_text\n",
    "\n",
    "# ------------------- 1. 进行聚类 -------------------\n",
    "# 构建图\n",
    "G = nx.from_numpy_matrix(new_adjacency_matrix)\n",
    "\n",
    "# 设定簇数\n",
    "n_clusters = 10\n",
    "sc = SpectralClustering(n_clusters=n_clusters, affinity='precomputed', random_state=42)# assign_labels=\"discretize\")\n",
    "labels = sc.fit_predict(new_adjacency_matrix)\n",
    "\n",
    "# 颜色映射\n",
    "palette = sns.color_palette(\"husl\", n_clusters)  # 让颜色更分散\n",
    "node_colors = [palette[labels[i] % len(palette)] for i in range(len(G.nodes))]\n",
    "\n",
    "# 统计每个类别的资产\n",
    "cluster_dict = defaultdict(list)\n",
    "for idx, cluster_id in enumerate(labels):\n",
    "    cluster_dict[cluster_id].append(idx)\n",
    "\n",
    "# ------------------- 2. 计算类别间的连接强度 -------------------\n",
    "# 生成新的加权图\n",
    "cluster_graph = nx.Graph()\n",
    "\n",
    "for c1 in cluster_dict:\n",
    "    for c2 in cluster_dict:\n",
    "        if c1 != c2:\n",
    "            weight = np.mean(new_adjacency_matrix[np.ix_(cluster_dict[c1], cluster_dict[c2])])\n",
    "            if weight > 0:\n",
    "                cluster_graph.add_edge(c1, c2, weight=weight)\n",
    "\n",
    "# ------------------- 3. 可视化优化 -------------------\n",
    "plt.figure(figsize=(10, 8))\n",
    "\n",
    "# **使用 spring_layout，但让同类节点靠近**\n",
    "pos = nx.spring_layout(G, seed=42)  # `k=0.1` 让节点更聚拢\n",
    "\n",
    "centralized=0.6\n",
    "# **增加吸引力，让同类节点更集中**\n",
    "for cluster_id, node_ids in cluster_dict.items():\n",
    "    cluster_center = np.mean([pos[n] for n in node_ids], axis=0)  # 计算类别中心\n",
    "    for node_id in node_ids:\n",
    "        pos[node_id] = (1-centralized) * pos[node_id] + centralized * cluster_center  # 让节点更接近中心\n",
    "\n",
    "# **绘制网络**\n",
    "nx.draw(G, pos, node_color=node_colors, node_size=300, edge_color=\"gray\", alpha=0.5)\n",
    "nx.draw_networkx_labels(G, pos, labels={i: all_assets[i] for i in range(len(all_assets))}, font_size=10, font_color=\"black\")\n",
    "\n",
    "# **画社区包围圈**\n",
    "for cluster_id, node_ids in cluster_dict.items():\n",
    "    if len(node_ids) > 2:  # 只有大于 2 个节点的类别才使用凸包\n",
    "        points = np.array([pos[n] for n in node_ids])\n",
    "        hull = ConvexHull(points)\n",
    "        hull_points = points[hull.vertices, :]\n",
    "        plt.fill(hull_points[:, 0], hull_points[:, 1], alpha=0.2, color=palette[cluster_id], label=f\"Cluster {cluster_id}\")\n",
    "\n",
    "plt.title(\"Clustering of Financial Assets based on contemporaneous adjacent matrix (10 clusters)\")\n",
    "plt.legend()\n",
    "plt.show()\n"
   ]
  },
  {
   "cell_type": "code",
   "execution_count": null,
   "metadata": {},
   "outputs": [],
   "source": [
    "# ------------------- 4. 可视化类别间的新图（带个体名称） -------------------\n",
    "plt.figure(figsize=(10, 8))\n",
    "\n",
    "# **使用 Spring Layout，让强连接的节点更靠近**\n",
    "pos_clusters = nx.spring_layout(cluster_graph, k=0.01, weight=\"weight\", seed=2)\n",
    "\n",
    "edges, weights = zip(*nx.get_edge_attributes(cluster_graph, \"weight\").items())  # 提取权重信息\n",
    "\n",
    "# **归一化边的权重，用粗细表示强度**\n",
    "edge_widths = [5 * (w / max(weights)) for w in weights]\n",
    "\n",
    "# **绘制边，颜色改为黑色，强连接更明显**\n",
    "edge_alphas = [0.3 + 0.5 * (w / max(weights)) for w in weights]  # 让强连接更突出\n",
    "for (edge, alpha) in zip(cluster_graph.edges(), edge_alphas):\n",
    "    nx.draw_networkx_edges(cluster_graph, pos_clusters, edgelist=[edge], width=edge_widths, edge_color=\"black\", alpha=alpha)\n",
    "\n",
    "# **不画默认的圆圈**\n",
    "nx.draw_networkx_nodes(cluster_graph, pos_clusters, node_size=0)\n",
    "\n",
    "# **在每个类别节点上标注所有个体，并手动添加透明方框**\n",
    "text_elements = []\n",
    "for cluster_id, node_pos in pos_clusters.items():\n",
    "    asset_names = \"\\n\".join([all_assets[i] for i in cluster_dict[cluster_id]])  \n",
    "    text = plt.text(node_pos[0], node_pos[1], asset_names, fontsize=10, ha='center', va='center', \n",
    "                    bbox=dict(boxstyle=\"square,pad=0.3\", facecolor='white', edgecolor='black', linewidth=1, alpha=0.4))\n",
    "    text_elements.append(text)\n",
    "\n",
    "# **调整文本防止重叠**\n",
    "adjust_text(text_elements, arrowprops=dict(arrowstyle=\"->\", color=\"gray\", lw=0.3))\n",
    "\n",
    "plt.title(\"Cluster-Level Graph (Transparent Boxes & Improved Layout)\")\n",
    "\n",
    "# **保存文件**\n",
    "save_path = os.path.join(log_path, f\"cluster_graph_p{pc_alpha}_q{quantile}.png\")\n",
    "plt.savefig(save_path)\n",
    "plt.show()"
   ]
  },
  {
   "cell_type": "markdown",
   "metadata": {},
   "source": [
    "- the category is: \n",
    "\n",
    "    | Category            | Codes                           |\n",
    "    |---------------------|---------------------------------|\n",
    "    | Oil Crops           | a, m, OI, p, b, RM, y           |\n",
    "    | Precious Metals     | ag, au                          |\n",
    "    | Nonferrous Metals   | al, bc, cu, ni, pb, sn, zn, ao  |\n",
    "    | Economic Crops      | AP, CF, CJ, CY, PK, SR          |\n",
    "    | Rubber & Woods      | br, fb, nr, ru, sp              |\n",
    "    | Oil & Gas           | bu, fu, lu, pg, sc              |\n",
    "    | Grains              | c, cs                           |\n",
    "    | Olefins             | eb, l, pp, v                    |\n",
    "    | Alcohols            | eg, MA                          |\n",
    "    | Inorganics          | FG, SA, UR, SH                  |\n",
    "    | Ferrous Metals      | hc, i, rb, SF, SM, ss           |\n",
    "    | Equity Index        | IC, IF, IH, IM                  |\n",
    "    | Coals               | j, jm                           |\n",
    "    | Animals             | jd, lh                          |\n",
    "    | Novel Materials     | lc, si                          |\n",
    "    | Aromatics           | PF, TA, PX                      |\n",
    "    | Interest Rates      | T, TF, TL, TS                   |\n",
    "    | Indices             | ec                              |"
   ]
  },
  {
   "cell_type": "code",
   "execution_count": null,
   "metadata": {},
   "outputs": [],
   "source": []
  },
  {
   "cell_type": "markdown",
   "metadata": {},
   "source": []
  },
  {
   "cell_type": "code",
   "execution_count": null,
   "metadata": {},
   "outputs": [],
   "source": [
    "import seaborn as sns\n",
    "\n",
    "# 重新排序邻接矩阵（按照聚类标签排序）\n",
    "sorted_idx = np.argsort(labels)\n",
    "sorted_matrix = adjacency_matrix[sorted_idx, :][:, sorted_idx]\n",
    "\n",
    "# 绘制热图\n",
    "plt.figure(figsize=(8, 6))\n",
    "sns.heatmap(sorted_matrix, cmap=\"coolwarm\", square=True, linewidths=0.1)\n",
    "plt.title(\"Clustered Adjacency Matrix\")\n",
    "plt.show()\n"
   ]
  },
  {
   "cell_type": "code",
   "execution_count": null,
   "metadata": {},
   "outputs": [],
   "source": [
    "labels"
   ]
  },
  {
   "cell_type": "code",
   "execution_count": null,
   "metadata": {},
   "outputs": [],
   "source": [
    "adjacency_matrix"
   ]
  },
  {
   "cell_type": "code",
   "execution_count": null,
   "metadata": {},
   "outputs": [],
   "source": [
    "%pip install python-louvain\n"
   ]
  },
  {
   "cell_type": "code",
   "execution_count": null,
   "metadata": {},
   "outputs": [],
   "source": []
  }
 ],
 "metadata": {
  "kernelspec": {
   "display_name": "py3-env",
   "language": "python",
   "name": "python3"
  },
  "language_info": {
   "codemirror_mode": {
    "name": "ipython",
    "version": 3
   },
   "file_extension": ".py",
   "mimetype": "text/x-python",
   "name": "python",
   "nbconvert_exporter": "python",
   "pygments_lexer": "ipython3",
   "version": "3.7.10"
  }
 },
 "nbformat": 4,
 "nbformat_minor": 2
}
